{
 "cells": [
  {
   "cell_type": "code",
   "execution_count": 6,
   "metadata": {},
   "outputs": [
    {
     "name": "stdout",
     "output_type": "stream",
     "text": [
      "The sum of digits in 10 is 46.\n"
     ]
    }
   ],
   "source": [
    "def sum_of_digits(n: int) -> int:\n",
    "    \"\"\"Calculate the sum of digits from 1 to n.\"\"\"\n",
    "    total_sum = 0\n",
    "    for num in range(1, n + 1):\n",
    "        while num > 0:\n",
    "            total_sum += num % 10\n",
    "            num //= 10\n",
    "    return total_sum\n",
    "\n",
    "num: int = 10\n",
    "result: int = sum_of_digits(num)\n",
    "print(f\"The sum of digits in {num} is {result}.\")\n"
   ]
  },
  {
   "cell_type": "code",
   "execution_count": 8,
   "metadata": {},
   "outputs": [
    {
     "name": "stdout",
     "output_type": "stream",
     "text": [
      "The sum of elements in the nested list is 55.\n"
     ]
    }
   ],
   "source": [
    "def sum_nested_list(nested_list) -> int:\n",
    "    \"\"\"Recursively calculate the sum of all elements in a nested list.\"\"\"\n",
    "    total_sum = 0\n",
    "    for element in nested_list:\n",
    "        if isinstance(element, list):\n",
    "            total_sum += sum_nested_list(element)\n",
    "        else:\n",
    "            total_sum += element\n",
    "    return total_sum\n",
    "\n",
    "# Testing the function\n",
    "nested = [1, 2, [3, 4, [5, 6], 7], 8, [9, [10]]]\n",
    "result = sum_nested_list(nested)\n",
    "print(f\"The sum of elements in the nested list is {result}.\")\n",
    "         "
   ]
  },
  {
   "cell_type": "code",
   "execution_count": 2,
   "metadata": {},
   "outputs": [
    {
     "name": "stdout",
     "output_type": "stream",
     "text": [
      "The result of ackermann_function(3, 4) is 125.\n"
     ]
    }
   ],
   "source": [
    "def ackermann(rows: int, columns: int) -> int:\n",
    "    \"\"\"Evaluate the Ackermann function.\"\"\"\n",
    "    if rows == 0:\n",
    "        return columns + 1\n",
    "    elif rows > 0 and columns == 0:\n",
    "        return ackermann(rows - 1, 1)\n",
    "    else:\n",
    "        return ackermann(rows - 1, ackermann(rows, columns - 1))\n",
    "\n",
    "result = ackermann(3, 4)\n",
    "print(f\"The result of ackermann_function(3, 4) is {result}.\")\n"
   ]
  }
 ],
 "metadata": {
  "kernelspec": {
   "display_name": "Python 3",
   "language": "python",
   "name": "python3"
  },
  "language_info": {
   "codemirror_mode": {
    "name": "ipython",
    "version": 3
   },
   "file_extension": ".py",
   "mimetype": "text/x-python",
   "name": "python",
   "nbconvert_exporter": "python",
   "pygments_lexer": "ipython3",
   "version": "3.11.3"
  },
  "orig_nbformat": 4
 },
 "nbformat": 4,
 "nbformat_minor": 2
}
